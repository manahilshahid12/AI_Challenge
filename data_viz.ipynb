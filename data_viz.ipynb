{
 "cells": [
  {
   "cell_type": "code",
   "execution_count": 1,
   "id": "76fcbcc2",
   "metadata": {},
   "outputs": [],
   "source": [
    "import numpy as np \n",
    "import pandas as pd \n",
    "import matplotlib.pyplot as plt"
   ]
  },
  {
   "cell_type": "code",
   "execution_count": 2,
   "id": "579434ce",
   "metadata": {},
   "outputs": [
    {
     "data": {
      "text/html": [
       "<div>\n",
       "<style scoped>\n",
       "    .dataframe tbody tr th:only-of-type {\n",
       "        vertical-align: middle;\n",
       "    }\n",
       "\n",
       "    .dataframe tbody tr th {\n",
       "        vertical-align: top;\n",
       "    }\n",
       "\n",
       "    .dataframe thead th {\n",
       "        text-align: right;\n",
       "    }\n",
       "</style>\n",
       "<table border=\"1\" class=\"dataframe\">\n",
       "  <thead>\n",
       "    <tr style=\"text-align: right;\">\n",
       "      <th></th>\n",
       "      <th>MONATSZAHL</th>\n",
       "      <th>AUSPRAEGUNG</th>\n",
       "      <th>JAHR</th>\n",
       "      <th>MONAT</th>\n",
       "      <th>WERT</th>\n",
       "      <th>VORJAHRESWERT</th>\n",
       "      <th>VERAEND_VORMONAT_PROZENT</th>\n",
       "      <th>VERAEND_VORJAHRESMONAT_PROZENT</th>\n",
       "      <th>ZWOELF_MONATE_MITTELWERT</th>\n",
       "    </tr>\n",
       "  </thead>\n",
       "  <tbody>\n",
       "    <tr>\n",
       "      <th>0</th>\n",
       "      <td>Alkoholunfälle</td>\n",
       "      <td>insgesamt</td>\n",
       "      <td>2025</td>\n",
       "      <td>202501</td>\n",
       "      <td>NaN</td>\n",
       "      <td>NaN</td>\n",
       "      <td>NaN</td>\n",
       "      <td>NaN</td>\n",
       "      <td>NaN</td>\n",
       "    </tr>\n",
       "    <tr>\n",
       "      <th>1</th>\n",
       "      <td>Alkoholunfälle</td>\n",
       "      <td>insgesamt</td>\n",
       "      <td>2025</td>\n",
       "      <td>202502</td>\n",
       "      <td>NaN</td>\n",
       "      <td>NaN</td>\n",
       "      <td>NaN</td>\n",
       "      <td>NaN</td>\n",
       "      <td>NaN</td>\n",
       "    </tr>\n",
       "    <tr>\n",
       "      <th>2</th>\n",
       "      <td>Alkoholunfälle</td>\n",
       "      <td>insgesamt</td>\n",
       "      <td>2025</td>\n",
       "      <td>202503</td>\n",
       "      <td>NaN</td>\n",
       "      <td>NaN</td>\n",
       "      <td>NaN</td>\n",
       "      <td>NaN</td>\n",
       "      <td>NaN</td>\n",
       "    </tr>\n",
       "    <tr>\n",
       "      <th>3</th>\n",
       "      <td>Alkoholunfälle</td>\n",
       "      <td>insgesamt</td>\n",
       "      <td>2025</td>\n",
       "      <td>202504</td>\n",
       "      <td>NaN</td>\n",
       "      <td>NaN</td>\n",
       "      <td>NaN</td>\n",
       "      <td>NaN</td>\n",
       "      <td>NaN</td>\n",
       "    </tr>\n",
       "    <tr>\n",
       "      <th>4</th>\n",
       "      <td>Alkoholunfälle</td>\n",
       "      <td>insgesamt</td>\n",
       "      <td>2025</td>\n",
       "      <td>202505</td>\n",
       "      <td>NaN</td>\n",
       "      <td>NaN</td>\n",
       "      <td>NaN</td>\n",
       "      <td>NaN</td>\n",
       "      <td>NaN</td>\n",
       "    </tr>\n",
       "  </tbody>\n",
       "</table>\n",
       "</div>"
      ],
      "text/plain": [
       "       MONATSZAHL AUSPRAEGUNG  JAHR   MONAT  WERT  VORJAHRESWERT  \\\n",
       "0  Alkoholunfälle   insgesamt  2025  202501   NaN            NaN   \n",
       "1  Alkoholunfälle   insgesamt  2025  202502   NaN            NaN   \n",
       "2  Alkoholunfälle   insgesamt  2025  202503   NaN            NaN   \n",
       "3  Alkoholunfälle   insgesamt  2025  202504   NaN            NaN   \n",
       "4  Alkoholunfälle   insgesamt  2025  202505   NaN            NaN   \n",
       "\n",
       "   VERAEND_VORMONAT_PROZENT  VERAEND_VORJAHRESMONAT_PROZENT  \\\n",
       "0                       NaN                             NaN   \n",
       "1                       NaN                             NaN   \n",
       "2                       NaN                             NaN   \n",
       "3                       NaN                             NaN   \n",
       "4                       NaN                             NaN   \n",
       "\n",
       "   ZWOELF_MONATE_MITTELWERT  \n",
       "0                       NaN  \n",
       "1                       NaN  \n",
       "2                       NaN  \n",
       "3                       NaN  \n",
       "4                       NaN  "
      ]
     },
     "execution_count": 2,
     "metadata": {},
     "output_type": "execute_result"
    }
   ],
   "source": [
    "df = pd.read_csv(r\"C:\\Users\\manah\\Downloads\\monatszahlen2505_verkehrsunfaelle_06_06_25.csv\")\n",
    "df.head()"
   ]
  },
  {
   "cell_type": "code",
   "execution_count": null,
   "id": "eb1ca11e",
   "metadata": {},
   "outputs": [],
   "source": [
    "\"\"\"\"\"\n",
    "Understanding of the dataset\n",
    "    MONATSZAHL: CATEGORY\n",
    "    AUSPRAEGUNG:ACCIDENT TYPE\n",
    "    JAHR: YEAR\n",
    "    MONAT: MONTH\n",
    "    WERT: VALUE\n",
    "    VORJAHRESWERT: PREVIOUS YEAR COUNT\n",
    "    VERAEND_VORMONAT_PROZENT: PERCENTAGE CHANGE COMPARED TO PREVIOUS MONTH\n",
    "    VERAEND_VORJAHRESMONAT_PROZENT: PERCENTAGE CHANGE TO THE SAME MONTH IN PREVIOUS YEAR\n",
    "    ZWOELF_MONATE_MITTELWERT: AVERAGE OVER 12 MONTHS\n",
    "    \"\"\""
   ]
  },
  {
   "cell_type": "code",
   "execution_count": 3,
   "id": "dd18f37a",
   "metadata": {},
   "outputs": [
    {
     "name": "stdout",
     "output_type": "stream",
     "text": [
      "Index(['MONATSZAHL', 'AUSPRAEGUNG', 'JAHR', 'MONAT', 'WERT', 'VORJAHRESWERT',\n",
      "       'VERAEND_VORMONAT_PROZENT', 'VERAEND_VORJAHRESMONAT_PROZENT',\n",
      "       'ZWOELF_MONATE_MITTELWERT'],\n",
      "      dtype='object')\n"
     ]
    }
   ],
   "source": [
    "df.dropna(axis=1, how='all', inplace=True)\n",
    "print(df.columns)"
   ]
  },
  {
   "cell_type": "code",
   "execution_count": 4,
   "id": "2ad4c839",
   "metadata": {},
   "outputs": [],
   "source": [
    "df = df[['MONATSZAHL', 'AUSPRAEGUNG', 'JAHR', 'MONAT', 'WERT']]"
   ]
  },
  {
   "cell_type": "code",
   "execution_count": 5,
   "id": "747c739b",
   "metadata": {},
   "outputs": [
    {
     "name": "stdout",
     "output_type": "stream",
     "text": [
      "           MONATSZAHL             AUSPRAEGUNG  JAHR   MONAT   WERT\n",
      "63     Alkoholunfälle               insgesamt  2020   Summe  430.0\n",
      "64     Alkoholunfälle               insgesamt  2020  202001   28.0\n",
      "65     Alkoholunfälle               insgesamt  2020  202002   40.0\n",
      "66     Alkoholunfälle               insgesamt  2020  202003   27.0\n",
      "67     Alkoholunfälle               insgesamt  2020  202004   26.0\n",
      "...               ...                     ...   ...     ...    ...\n",
      "2340  Verkehrsunfälle  Verletzte und Getötete  2000  200008  647.0\n",
      "2341  Verkehrsunfälle  Verletzte und Getötete  2000  200009  675.0\n",
      "2342  Verkehrsunfälle  Verletzte und Getötete  2000  200010  615.0\n",
      "2343  Verkehrsunfälle  Verletzte und Getötete  2000  200011  578.0\n",
      "2344  Verkehrsunfälle  Verletzte und Getötete  2000  200012  515.0\n",
      "\n",
      "[1904 rows x 5 columns]\n"
     ]
    }
   ],
   "source": [
    "#Filtering dataset for enteries above 2020\n",
    "df_cleaned = df[df['JAHR']<=2020]\n",
    "print(df_cleaned)"
   ]
  }
 ],
 "metadata": {
  "kernelspec": {
   "display_name": "base",
   "language": "python",
   "name": "python3"
  },
  "language_info": {
   "codemirror_mode": {
    "name": "ipython",
    "version": 3
   },
   "file_extension": ".py",
   "mimetype": "text/x-python",
   "name": "python",
   "nbconvert_exporter": "python",
   "pygments_lexer": "ipython3",
   "version": "3.12.3"
  }
 },
 "nbformat": 4,
 "nbformat_minor": 5
}
