{
 "cells": [
  {
   "cell_type": "code",
   "execution_count": 1,
   "id": "b7e88e1d",
   "metadata": {},
   "outputs": [],
   "source": [
    "import numpy as np \n",
    "import pandas as pd \n",
    "import matplotlib.pyplot as plt \n",
    "import seaborn as sns \n",
    "from sklearn.preprocessing import OneHotEncoder\n",
    "from sklearn.ensemble import RandomForestRegressor\n",
    "from sklearn.model_selection import train_test_split\n",
    "from sklearn.metrics import mean_squared_error \n",
    "from sklearn.preprocessing import StandardScaler"
   ]
  },
  {
   "cell_type": "code",
   "execution_count": 2,
   "id": "35baa209",
   "metadata": {},
   "outputs": [
    {
     "data": {
      "text/html": [
       "<div>\n",
       "<style scoped>\n",
       "    .dataframe tbody tr th:only-of-type {\n",
       "        vertical-align: middle;\n",
       "    }\n",
       "\n",
       "    .dataframe tbody tr th {\n",
       "        vertical-align: top;\n",
       "    }\n",
       "\n",
       "    .dataframe thead th {\n",
       "        text-align: right;\n",
       "    }\n",
       "</style>\n",
       "<table border=\"1\" class=\"dataframe\">\n",
       "  <thead>\n",
       "    <tr style=\"text-align: right;\">\n",
       "      <th></th>\n",
       "      <th>MONATSZAHL</th>\n",
       "      <th>AUSPRAEGUNG</th>\n",
       "      <th>JAHR</th>\n",
       "      <th>MONAT</th>\n",
       "      <th>WERT</th>\n",
       "      <th>VORJAHRESWERT</th>\n",
       "      <th>VERAEND_VORMONAT_PROZENT</th>\n",
       "      <th>VERAEND_VORJAHRESMONAT_PROZENT</th>\n",
       "      <th>ZWOELF_MONATE_MITTELWERT</th>\n",
       "    </tr>\n",
       "  </thead>\n",
       "  <tbody>\n",
       "    <tr>\n",
       "      <th>0</th>\n",
       "      <td>Alkoholunfälle</td>\n",
       "      <td>insgesamt</td>\n",
       "      <td>2025</td>\n",
       "      <td>202501</td>\n",
       "      <td>NaN</td>\n",
       "      <td>NaN</td>\n",
       "      <td>NaN</td>\n",
       "      <td>NaN</td>\n",
       "      <td>NaN</td>\n",
       "    </tr>\n",
       "    <tr>\n",
       "      <th>1</th>\n",
       "      <td>Alkoholunfälle</td>\n",
       "      <td>insgesamt</td>\n",
       "      <td>2025</td>\n",
       "      <td>202502</td>\n",
       "      <td>NaN</td>\n",
       "      <td>NaN</td>\n",
       "      <td>NaN</td>\n",
       "      <td>NaN</td>\n",
       "      <td>NaN</td>\n",
       "    </tr>\n",
       "    <tr>\n",
       "      <th>2</th>\n",
       "      <td>Alkoholunfälle</td>\n",
       "      <td>insgesamt</td>\n",
       "      <td>2025</td>\n",
       "      <td>202503</td>\n",
       "      <td>NaN</td>\n",
       "      <td>NaN</td>\n",
       "      <td>NaN</td>\n",
       "      <td>NaN</td>\n",
       "      <td>NaN</td>\n",
       "    </tr>\n",
       "    <tr>\n",
       "      <th>3</th>\n",
       "      <td>Alkoholunfälle</td>\n",
       "      <td>insgesamt</td>\n",
       "      <td>2025</td>\n",
       "      <td>202504</td>\n",
       "      <td>NaN</td>\n",
       "      <td>NaN</td>\n",
       "      <td>NaN</td>\n",
       "      <td>NaN</td>\n",
       "      <td>NaN</td>\n",
       "    </tr>\n",
       "    <tr>\n",
       "      <th>4</th>\n",
       "      <td>Alkoholunfälle</td>\n",
       "      <td>insgesamt</td>\n",
       "      <td>2025</td>\n",
       "      <td>202505</td>\n",
       "      <td>NaN</td>\n",
       "      <td>NaN</td>\n",
       "      <td>NaN</td>\n",
       "      <td>NaN</td>\n",
       "      <td>NaN</td>\n",
       "    </tr>\n",
       "  </tbody>\n",
       "</table>\n",
       "</div>"
      ],
      "text/plain": [
       "       MONATSZAHL AUSPRAEGUNG  JAHR   MONAT  WERT  VORJAHRESWERT  \\\n",
       "0  Alkoholunfälle   insgesamt  2025  202501   NaN            NaN   \n",
       "1  Alkoholunfälle   insgesamt  2025  202502   NaN            NaN   \n",
       "2  Alkoholunfälle   insgesamt  2025  202503   NaN            NaN   \n",
       "3  Alkoholunfälle   insgesamt  2025  202504   NaN            NaN   \n",
       "4  Alkoholunfälle   insgesamt  2025  202505   NaN            NaN   \n",
       "\n",
       "   VERAEND_VORMONAT_PROZENT  VERAEND_VORJAHRESMONAT_PROZENT  \\\n",
       "0                       NaN                             NaN   \n",
       "1                       NaN                             NaN   \n",
       "2                       NaN                             NaN   \n",
       "3                       NaN                             NaN   \n",
       "4                       NaN                             NaN   \n",
       "\n",
       "   ZWOELF_MONATE_MITTELWERT  \n",
       "0                       NaN  \n",
       "1                       NaN  \n",
       "2                       NaN  \n",
       "3                       NaN  \n",
       "4                       NaN  "
      ]
     },
     "execution_count": 2,
     "metadata": {},
     "output_type": "execute_result"
    }
   ],
   "source": [
    "#Load the dataset\n",
    "df = pd.read_csv(r\"C:\\Users\\manah\\Downloads\\monatszahlen2505_verkehrsunfaelle_06_06_25.csv\")\n",
    "df.head()"
   ]
  },
  {
   "cell_type": "code",
   "execution_count": 3,
   "id": "d8aebe67",
   "metadata": {},
   "outputs": [
    {
     "name": "stdout",
     "output_type": "stream",
     "text": [
      "Index(['MONATSZAHL', 'AUSPRAEGUNG', 'JAHR', 'MONAT', 'WERT', 'VORJAHRESWERT',\n",
      "       'VERAEND_VORMONAT_PROZENT', 'VERAEND_VORJAHRESMONAT_PROZENT',\n",
      "       'ZWOELF_MONATE_MITTELWERT'],\n",
      "      dtype='object')\n",
      "         MONATSZAHL AUSPRAEGUNG  JAHR MONAT  WERT\n",
      "64   Alkoholunfälle   insgesamt  2020    01  28.0\n",
      "65   Alkoholunfälle   insgesamt  2020    02  40.0\n",
      "66   Alkoholunfälle   insgesamt  2020    03  27.0\n",
      "67   Alkoholunfälle   insgesamt  2020    04  26.0\n",
      "68   Alkoholunfälle   insgesamt  2020    05  40.0\n",
      "..              ...         ...   ...   ...   ...\n",
      "330  Alkoholunfälle   insgesamt  2000    08  77.0\n",
      "331  Alkoholunfälle   insgesamt  2000    09  84.0\n",
      "332  Alkoholunfälle   insgesamt  2000    10  83.0\n",
      "333  Alkoholunfälle   insgesamt  2000    11  71.0\n",
      "334  Alkoholunfälle   insgesamt  2000    12  85.0\n",
      "\n",
      "[252 rows x 5 columns]\n"
     ]
    },
    {
     "name": "stderr",
     "output_type": "stream",
     "text": [
      "C:\\Users\\manah\\AppData\\Local\\Temp\\ipykernel_57848\\3648256761.py:13: SettingWithCopyWarning: \n",
      "A value is trying to be set on a copy of a slice from a DataFrame.\n",
      "Try using .loc[row_indexer,col_indexer] = value instead\n",
      "\n",
      "See the caveats in the documentation: https://pandas.pydata.org/pandas-docs/stable/user_guide/indexing.html#returning-a-view-versus-a-copy\n",
      "  df_cleaned['MONAT'] = df['MONAT'].astype(str)\n"
     ]
    }
   ],
   "source": [
    "# Preprocessing the dataset \n",
    "\n",
    "df.dropna(axis=1, how='all', inplace=True)\n",
    "print(df.columns)\n",
    "df = df[['MONATSZAHL', 'AUSPRAEGUNG', 'JAHR', 'MONAT', 'WERT']]\n",
    "\n",
    "#Filtering dataset for enteries above 2020, category as alkoholunfalle and type as insgesamt\n",
    "\n",
    "df_cleaned = df[(df['JAHR']<=2020) & (df['MONATSZAHL']=='Alkoholunfälle') & (df['AUSPRAEGUNG']=='insgesamt')]\n",
    "\n",
    "# Ensure MONAT is string type\n",
    "\n",
    "df_cleaned['MONAT'] = df['MONAT'].astype(str)\n",
    "\n",
    "# Remove rows where MONAT is 'Summe'\n",
    "# map it as month number such as 01, 02, 03,...\n",
    "df_cleaned = df_cleaned[df_cleaned['MONAT'].str.lower() != 'summe']\n",
    "\n",
    "df_cleaned['MONAT'] = df_cleaned['MONAT'].astype(str).str[-2:]\n",
    "\n",
    "print(df_cleaned)\n"
   ]
  },
  {
   "cell_type": "code",
   "execution_count": 4,
   "id": "57e6c308",
   "metadata": {},
   "outputs": [],
   "source": [
    "#categorical features for one-hot encoding\n",
    "encoder = OneHotEncoder(sparse_output=False)\n",
    "\n",
    "cat_features = encoder.fit_transform(df_cleaned[['MONATSZAHL', 'AUSPRAEGUNG']])\n",
    "\n",
    "\n",
    "# Numeric features as floats\n",
    "numeric_features = df_cleaned[['JAHR', 'MONAT']].values.astype(float)\n",
    "\n"
   ]
  },
  {
   "cell_type": "code",
   "execution_count": 5,
   "id": "71f2120c",
   "metadata": {},
   "outputs": [],
   "source": [
    "#Extracting Inputs and Outputs for the training Process\n",
    "X = np.hstack([cat_features, numeric_features])\n",
    "Y = df_cleaned[['WERT']].values"
   ]
  },
  {
   "cell_type": "code",
   "execution_count": 6,
   "id": "858a82df",
   "metadata": {},
   "outputs": [
    {
     "name": "stderr",
     "output_type": "stream",
     "text": [
      "c:\\Users\\manah\\miniconda3\\Lib\\site-packages\\sklearn\\base.py:1389: DataConversionWarning: A column-vector y was passed when a 1d array was expected. Please change the shape of y to (n_samples,), for example using ravel().\n",
      "  return fit_method(estimator, *args, **kwargs)\n"
     ]
    },
    {
     "name": "stdout",
     "output_type": "stream",
     "text": [
      "Test MSE : 66.33\n"
     ]
    }
   ],
   "source": [
    "# Split dataset into train and test (80/20 split)\n",
    "X_train, X_test, y_train, y_test = train_test_split(\n",
    "    X, Y, random_state=42, test_size=0.2\n",
    ")\n",
    "# Scale features\n",
    "scaler = StandardScaler()\n",
    "X_train_scaled = scaler.fit_transform(X_train)\n",
    "X_test_scaled = scaler.transform(X_test)\n",
    "\n",
    "# Train model\n",
    "rf = RandomForestRegressor(n_estimators=700, random_state=42)\n",
    "rf.fit(X_train_scaled, y_train)\n",
    "\n",
    "# Predict and evaluate\n",
    "y_pred = rf.predict(X_test_scaled)\n",
    "mse = mean_squared_error(y_test, y_pred)\n",
    "print(f\"Test MSE : {mse:.2f}\")"
   ]
  },
  {
   "cell_type": "code",
   "execution_count": 7,
   "id": "3a264f30",
   "metadata": {},
   "outputs": [
    {
     "name": "stdout",
     "output_type": "stream",
     "text": [
      "Predicted number of accidents for January 2021: 29.14\n"
     ]
    },
    {
     "name": "stderr",
     "output_type": "stream",
     "text": [
      "c:\\Users\\manah\\miniconda3\\Lib\\site-packages\\sklearn\\utils\\validation.py:2739: UserWarning: X does not have valid feature names, but OneHotEncoder was fitted with feature names\n",
      "  warnings.warn(\n"
     ]
    }
   ],
   "source": [
    "# Prepare input for prediction:\n",
    "# Category: 'Alkoholunfälle'\n",
    "# Type: 'insgesamt'\n",
    "# Year: 2021\n",
    "# Month: 1\n",
    "\n",
    "# Encode categorical features for prediction input\n",
    "cat_input = encoder.transform(\n",
    "    [[\"Alkoholunfälle\", \"insgesamt\"]]\n",
    ")  # shape (1, cat_feature_count)\n",
    "\n",
    "# Numeric features for Jan 2021\n",
    "num_input = np.array([[2021, 1]])  # Year=2021, Month=1\n",
    "\n",
    "# Combine features\n",
    "X_pred = np.hstack([cat_input, num_input])\n",
    "\n",
    "# Predict\n",
    "prediction = rf.predict(X_pred)\n",
    "\n",
    "print(f\"Predicted number of accidents for January 2021: {prediction[0]:.2f}\")"
   ]
  }
 ],
 "metadata": {
  "kernelspec": {
   "display_name": "base",
   "language": "python",
   "name": "python3"
  },
  "language_info": {
   "codemirror_mode": {
    "name": "ipython",
    "version": 3
   },
   "file_extension": ".py",
   "mimetype": "text/x-python",
   "name": "python",
   "nbconvert_exporter": "python",
   "pygments_lexer": "ipython3",
   "version": "3.12.3"
  }
 },
 "nbformat": 4,
 "nbformat_minor": 5
}
